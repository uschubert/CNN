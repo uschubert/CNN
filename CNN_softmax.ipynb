{
 "cells": [
  {
   "cell_type": "code",
   "execution_count": 1,
   "metadata": {},
   "outputs": [
    {
     "name": "stderr",
     "output_type": "stream",
     "text": [
      "/home/schubert/.conda/envs/LRP/lib/python3.7/site-packages/tensorflow/python/framework/dtypes.py:526: FutureWarning: Passing (type, 1) or '1type' as a synonym of type is deprecated; in a future version of numpy, it will be understood as (type, (1,)) / '(1,)type'.\n",
      "  _np_qint8 = np.dtype([(\"qint8\", np.int8, 1)])\n",
      "/home/schubert/.conda/envs/LRP/lib/python3.7/site-packages/tensorflow/python/framework/dtypes.py:527: FutureWarning: Passing (type, 1) or '1type' as a synonym of type is deprecated; in a future version of numpy, it will be understood as (type, (1,)) / '(1,)type'.\n",
      "  _np_quint8 = np.dtype([(\"quint8\", np.uint8, 1)])\n",
      "/home/schubert/.conda/envs/LRP/lib/python3.7/site-packages/tensorflow/python/framework/dtypes.py:528: FutureWarning: Passing (type, 1) or '1type' as a synonym of type is deprecated; in a future version of numpy, it will be understood as (type, (1,)) / '(1,)type'.\n",
      "  _np_qint16 = np.dtype([(\"qint16\", np.int16, 1)])\n",
      "/home/schubert/.conda/envs/LRP/lib/python3.7/site-packages/tensorflow/python/framework/dtypes.py:529: FutureWarning: Passing (type, 1) or '1type' as a synonym of type is deprecated; in a future version of numpy, it will be understood as (type, (1,)) / '(1,)type'.\n",
      "  _np_quint16 = np.dtype([(\"quint16\", np.uint16, 1)])\n",
      "/home/schubert/.conda/envs/LRP/lib/python3.7/site-packages/tensorflow/python/framework/dtypes.py:530: FutureWarning: Passing (type, 1) or '1type' as a synonym of type is deprecated; in a future version of numpy, it will be understood as (type, (1,)) / '(1,)type'.\n",
      "  _np_qint32 = np.dtype([(\"qint32\", np.int32, 1)])\n",
      "/home/schubert/.conda/envs/LRP/lib/python3.7/site-packages/tensorflow/python/framework/dtypes.py:535: FutureWarning: Passing (type, 1) or '1type' as a synonym of type is deprecated; in a future version of numpy, it will be understood as (type, (1,)) / '(1,)type'.\n",
      "  np_resource = np.dtype([(\"resource\", np.ubyte, 1)])\n",
      "Using TensorFlow backend.\n"
     ]
    },
    {
     "name": "stdout",
     "output_type": "stream",
     "text": [
      "1.13.1\n"
     ]
    }
   ],
   "source": [
    "# TensorFlow and tf.keras\n",
    "import tensorflow as tf\n",
    "import random\n",
    "import pandas as pd\n",
    "\n",
    "import keras\n",
    "import keras.backend\n",
    "from keras import layers\n",
    "from keras import models\n",
    "from keras import optimizers\n",
    "import keras.utils\n",
    "\n",
    "print(tf.__version__)\n",
    "\n",
    "# Helper libraries\n",
    "import numpy as np\n",
    "import matplotlib.pyplot as plt\n",
    "from matplotlib.colors import LogNorm\n",
    "import math\n",
    "import time\n",
    "import h5py\n",
    "import sklearn\n",
    "from sklearn.utils import shuffle\n",
    "\n",
    "import os"
   ]
  },
  {
   "cell_type": "markdown",
   "metadata": {},
   "source": [
    "## Import data:\n",
    "Using ShowJetsData_full.npz to build the CNN."
   ]
  },
  {
   "cell_type": "code",
   "execution_count": 2,
   "metadata": {},
   "outputs": [],
   "source": [
    "grid = 16\n",
    "data= np.load('data/ShowJetsData_full.npz')"
   ]
  },
  {
   "cell_type": "code",
   "execution_count": 3,
   "metadata": {},
   "outputs": [],
   "source": [
    "data_dic={key : data[key]  for key in data.keys()}\n",
    "n_data=len(data_dic['labels'])\n",
    "# Sum all signal labels\n",
    "data_dic['labels']=np.array([[ele[0],np.sum(ele[1:])] for ele in data_dic['labels']]).astype(int)"
   ]
  },
  {
   "cell_type": "markdown",
   "metadata": {},
   "source": [
    "## Balance and Normalize data and split into train and test"
   ]
  },
  {
   "cell_type": "markdown",
   "metadata": {},
   "source": [
    "Build list of signal and background indices, balance them, shuffle and combine back."
   ]
  },
  {
   "cell_type": "code",
   "execution_count": 4,
   "metadata": {},
   "outputs": [],
   "source": [
    "random.seed(1)\n",
    "ind_sig_inb=np.argwhere(data_dic['labels'][:,1]==1)[:,0]\n",
    "ind_bkg=np.argwhere(data_dic['labels'][:,0]==1)[:,0]\n",
    "ind_sig=random.choices(ind_sig_inb,k=len(ind_bkg))\n",
    "ind=np.concatenate((ind_bkg,ind_sig),axis=0)\n",
    "np.random.shuffle(ind)"
   ]
  },
  {
   "cell_type": "code",
   "execution_count": 5,
   "metadata": {},
   "outputs": [
    {
     "name": "stdout",
     "output_type": "stream",
     "text": [
      "496341\n",
      "496341\n"
     ]
    }
   ],
   "source": [
    "print(len(ind_bkg))\n",
    "print(len(ind_sig))"
   ]
  },
  {
   "cell_type": "code",
   "execution_count": 6,
   "metadata": {},
   "outputs": [],
   "source": [
    "split=0.9"
   ]
  },
  {
   "cell_type": "markdown",
   "metadata": {},
   "source": [
    "Build two dictionaries with train and test data."
   ]
  },
  {
   "cell_type": "code",
   "execution_count": 7,
   "metadata": {},
   "outputs": [],
   "source": [
    "data_train={}\n",
    "data_test={}\n",
    "cut=int(split*len(ind))\n",
    "for key in data_dic.keys():\n",
    "    sub=data_dic[key][ind]\n",
    "    if key=='jetImages':\n",
    "        minn=np.min(sub)\n",
    "        maxx=np.max(sub)\n",
    "        data_train[key]=(sub[:cut]-minn)/(maxx-minn)\n",
    "        data_test[key]=(sub[cut:]-minn)/(maxx-minn)\n",
    "    else:\n",
    "        minn=np.min(sub,axis=0)\n",
    "        maxx=np.max(sub,axis=0)\n",
    "        data_train[key]=(sub[:cut]-minn)/(maxx-minn)\n",
    "        data_test[key]=(sub[cut:]-minn)/(maxx-minn)"
   ]
  },
  {
   "cell_type": "code",
   "execution_count": 8,
   "metadata": {},
   "outputs": [
    {
     "name": "stdout",
     "output_type": "stream",
     "text": [
      "893413\n",
      "99269\n"
     ]
    }
   ],
   "source": [
    "n_train=len(data_train['jetPt'])\n",
    "print(n_train)\n",
    "n_test=len(data_test['jetPt'])\n",
    "print(n_test)"
   ]
  },
  {
   "cell_type": "markdown",
   "metadata": {},
   "source": [
    "## Plot Data"
   ]
  },
  {
   "cell_type": "code",
   "execution_count": 9,
   "metadata": {},
   "outputs": [],
   "source": [
    "ind_train_sig=np.argwhere(data_train['labels'][:,1]==1)[:,0]\n",
    "ind_train_bkg=np.argwhere(data_train['labels'][:,0]==1)[:,0]"
   ]
  },
  {
   "cell_type": "markdown",
   "metadata": {},
   "source": [
    "### JetImages"
   ]
  },
  {
   "cell_type": "code",
   "execution_count": 15,
   "metadata": {},
   "outputs": [
    {
     "data": {
      "image/png": "[encoded data removed]",
      "text/plain": [
       "<Figure size 432x288 with 2 Axes>"
      ]
     },
     "metadata": {
      "needs_background": "light"
     },
     "output_type": "display_data"
    }
   ],
   "source": [
    "#plot input signal and background\n",
    "sig_images=np.sum(data_train['jetImages'][ind_train_sig],axis=0)\n",
    "#signal\n",
    "display_sig = sig_images.reshape(grid,grid)\n",
    "plt.grid(False)\n",
    "plt.imshow(display_sig, interpolation='nearest', origin='low', cmap = 'jet', norm=LogNorm())\n",
    "plt.colorbar()\n",
    "#plt.show()\n",
    "plt.savefig('plots/jet_sig.pdf')"
   ]
  },
  {
   "cell_type": "code",
   "execution_count": 14,
   "metadata": {},
   "outputs": [
    {
     "data": {
      "image/png": "[encoded data removed]",
      "text/plain": [
       "<Figure size 432x288 with 2 Axes>"
      ]
     },
     "metadata": {
      "needs_background": "light"
     },
     "output_type": "display_data"
    }
   ],
   "source": [
    "bkg_images=np.sum(data_train['jetImages'][ind_train_bkg],axis=0)\n",
    "#background\n",
    "display_bkg = bkg_images.reshape(grid,grid)\n",
    "plt.grid(False)\n",
    "plt.imshow(display_bkg, interpolation='nearest', origin='low', cmap = 'jet', norm=LogNorm())\n",
    "plt.colorbar()\n",
    "#plt.show()\n",
    "plt.savefig('plots/jet_bkg.pdf')"
   ]
  },
  {
   "cell_type": "code",
   "execution_count": 73,
   "metadata": {},
   "outputs": [],
   "source": [
    "transp=0.6"
   ]
  },
  {
   "cell_type": "markdown",
   "metadata": {},
   "source": [
    "### jetPt"
   ]
  },
  {
   "cell_type": "code",
   "execution_count": 74,
   "metadata": {
    "scrolled": true
   },
   "outputs": [
    {
     "data": {
      "image/png": "[encoded data removed]",
      "text/plain": [
       "<Figure size 432x288 with 1 Axes>"
      ]
     },
     "metadata": {
      "needs_background": "light"
     },
     "output_type": "display_data"
    }
   ],
   "source": [
    "feat='jetPt'\n",
    "fig, axs = plt.subplots(1, 1, sharey=True, tight_layout=True)\n",
    "\n",
    "# We can set the number of bins with the `bins` kwarg\n",
    "axs.hist([data_train[feat][ind_train_sig],data_train[feat][ind_train_bkg]], bins=50,histtype='step',fill=True,alpha=transp);\n",
    "axs.legend(labels=['QCD',\"Z'\"]);\n",
    "axs.set_xlabel('Normalized '+feat)\n",
    "axs.set_ylabel('Counts')\n",
    "axs.set_title(feat);\n",
    "plt.savefig('plots/'+feat+'.pdf')"
   ]
  },
  {
   "cell_type": "markdown",
   "metadata": {},
   "source": [
    "### jetEta"
   ]
  },
  {
   "cell_type": "code",
   "execution_count": 75,
   "metadata": {
    "scrolled": true
   },
   "outputs": [
    {
     "data": {
      "image/png": "[encoded data removed]",
      "text/plain": [
       "<Figure size 432x288 with 1 Axes>"
      ]
     },
     "metadata": {
      "needs_background": "light"
     },
     "output_type": "display_data"
    }
   ],
   "source": [
    "feat='jetEta'\n",
    "fig, axs = plt.subplots(1, 1, sharey=True, tight_layout=True)\n",
    "\n",
    "# We can set the number of bins with the `bins` kwarg\n",
    "axs.hist([data_train[feat][ind_train_sig],data_train[feat][ind_train_bkg]], bins=50,histtype='step',fill=True,alpha=transp);\n",
    "axs.legend(labels=['QCD',\"Z'\"]);\n",
    "axs.set_xlabel('Normalized '+feat)\n",
    "axs.set_ylabel('Counts')\n",
    "axs.set_title(feat);\n",
    "plt.savefig('plots/'+feat+'.pdf')"
   ]
  },
  {
   "cell_type": "markdown",
   "metadata": {},
   "source": [
    "### jetPhi"
   ]
  },
  {
   "cell_type": "code",
   "execution_count": 76,
   "metadata": {
    "scrolled": true
   },
   "outputs": [
    {
     "data": {
      "image/png": "[encoded data removed]",
      "text/plain": [
       "<Figure size 432x288 with 1 Axes>"
      ]
     },
     "metadata": {
      "needs_background": "light"
     },
     "output_type": "display_data"
    }
   ],
   "source": [
    "feat='jetPhi'\n",
    "fig, axs = plt.subplots(1, 1, sharey=True, tight_layout=True)\n",
    "\n",
    "# We can set the number of bins with the `bins` kwarg\n",
    "axs.hist([data_train[feat][ind_train_sig],data_train[feat][ind_train_bkg]], bins=50,histtype='step',fill=True,alpha=transp);\n",
    "axs.legend(labels=['QCD',\"Z'\"]);\n",
    "axs.set_xlabel('Normalized '+feat)\n",
    "axs.set_ylabel('Counts')\n",
    "axs.set_title(feat);\n",
    "plt.savefig('plots/'+feat+'.pdf')"
   ]
  },
  {
   "cell_type": "markdown",
   "metadata": {},
   "source": [
    "### tau21"
   ]
  },
  {
   "cell_type": "code",
   "execution_count": 77,
   "metadata": {},
   "outputs": [
    {
     "data": {
      "image/png": "[encoded data removed]",
      "text/plain": [
       "<Figure size 432x288 with 1 Axes>"
      ]
     },
     "metadata": {
      "needs_background": "light"
     },
     "output_type": "display_data"
    }
   ],
   "source": [
    "feat='tau21'\n",
    "fig, axs = plt.subplots(1, 1, sharey=True, tight_layout=True)\n",
    "\n",
    "# We can set the number of bins with the `bins` kwarg\n",
    "axs.hist([data_train[feat][ind_train_sig],data_train[feat][ind_train_bkg]], bins=50,histtype='step',fill=True,alpha=transp);\n",
    "axs.legend(labels=['QCD',\"Z'\"]);\n",
    "axs.set_xlabel('Normalized '+feat)\n",
    "axs.set_ylabel('Counts')\n",
    "axs.set_title(feat);\n",
    "plt.savefig('plots/'+feat+'.pdf')"
   ]
  },
  {
   "cell_type": "markdown",
   "metadata": {},
   "source": [
    "### chMult"
   ]
  },
  {
   "cell_type": "code",
   "execution_count": 78,
   "metadata": {},
   "outputs": [
    {
     "data": {
      "image/png": "[encoded data removed]",
      "text/plain": [
       "<Figure size 432x288 with 1 Axes>"
      ]
     },
     "metadata": {
      "needs_background": "light"
     },
     "output_type": "display_data"
    }
   ],
   "source": [
    "feat='chMult'\n",
    "fig, axs = plt.subplots(1, 1, sharey=True, tight_layout=True)\n",
    "\n",
    "# We can set the number of bins with the `bins` kwarg\n",
    "axs.hist([data_train[feat][ind_train_sig],data_train[feat][ind_train_bkg]], bins=30,histtype='step',fill=True,alpha=transp);\n",
    "axs.legend(labels=['QCD',\"Z'\"]);\n",
    "axs.set_title(feat);\n",
    "axs.set_xlabel('Normalized '+feat)\n",
    "axs.set_ylabel('Counts')\n",
    "plt.savefig('plots/'+feat+'.pdf')"
   ]
  },
  {
   "cell_type": "markdown",
   "metadata": {},
   "source": [
    "### neutMult"
   ]
  },
  {
   "cell_type": "code",
   "execution_count": 79,
   "metadata": {},
   "outputs": [
    {
     "data": {
      "image/png": "[encoded data removed]",
      "text/plain": [
       "<Figure size 432x288 with 1 Axes>"
      ]
     },
     "metadata": {
      "needs_background": "light"
     },
     "output_type": "display_data"
    }
   ],
   "source": [
    "feat='neutMult'\n",
    "fig, axs = plt.subplots(1, 1, sharey=True, tight_layout=True)\n",
    "\n",
    "# We can set the number of bins with the `bins` kwarg\n",
    "axs.hist([data_train[feat][ind_train_sig],data_train[feat][ind_train_bkg]], bins=20,histtype='step',fill=True,alpha=transp);\n",
    "axs.legend(labels=['QCD',\"Z'\"]);\n",
    "axs.set_xlabel('Normalized '+feat)\n",
    "axs.set_ylabel('Counts')\n",
    "axs.set_title(feat);\n",
    "plt.savefig('plots/'+feat+'.pdf')"
   ]
  },
  {
   "cell_type": "markdown",
   "metadata": {},
   "source": [
    "### phoMult"
   ]
  },
  {
   "cell_type": "code",
   "execution_count": 80,
   "metadata": {},
   "outputs": [
    {
     "data": {
      "image/png": "[encoded data removed]",
      "text/plain": [
       "<Figure size 432x288 with 1 Axes>"
      ]
     },
     "metadata": {
      "needs_background": "light"
     },
     "output_type": "display_data"
    }
   ],
   "source": [
    "feat='phoMult'\n",
    "fig, axs = plt.subplots(1, 1, sharey=True, tight_layout=True)\n",
    "\n",
    "# We can set the number of bins with the `bins` kwarg\n",
    "axs.hist([data_train[feat][ind_train_sig],data_train[feat][ind_train_bkg]], bins=50,histtype='step',fill=True,alpha=transp);\n",
    "axs.legend(labels=['QCD',\"Z'\"]);\n",
    "axs.set_xlabel('Normalized '+feat)\n",
    "axs.set_ylabel('Counts')\n",
    "axs.set_title(feat);\n",
    "plt.savefig('plots/'+feat+'.pdf')"
   ]
  },
  {
   "cell_type": "markdown",
   "metadata": {},
   "source": [
    "### eleMult"
   ]
  },
  {
   "cell_type": "code",
   "execution_count": 81,
   "metadata": {},
   "outputs": [
    {
     "data": {
      "image/png": "[encoded data removed]",
      "text/plain": [
       "<Figure size 432x288 with 1 Axes>"
      ]
     },
     "metadata": {
      "needs_background": "light"
     },
     "output_type": "display_data"
    }
   ],
   "source": [
    "feat='eleMult'\n",
    "fig, axs = plt.subplots(1, 1, sharey=True, tight_layout=True)\n",
    "\n",
    "# We can set the number of bins with the `bins` kwarg\n",
    "axs.hist([data_train[feat][ind_train_sig],data_train[feat][ind_train_bkg]], bins=10,histtype='step',fill=True,alpha=transp);\n",
    "axs.legend(labels=['QCD',\"Z'\"]);\n",
    "axs.set_xlabel('Normalized '+feat)\n",
    "axs.set_ylabel('Counts')\n",
    "axs.set_title(feat);\n",
    "plt.savefig('plots/'+feat+'.pdf')"
   ]
  },
  {
   "cell_type": "markdown",
   "metadata": {},
   "source": [
    "### muMult"
   ]
  },
  {
   "cell_type": "code",
   "execution_count": 82,
   "metadata": {
    "scrolled": true
   },
   "outputs": [
    {
     "data": {
      "image/png": "[encoded data removed]",
      "text/plain": [
       "<Figure size 432x288 with 1 Axes>"
      ]
     },
     "metadata": {
      "needs_background": "light"
     },
     "output_type": "display_data"
    }
   ],
   "source": [
    "feat='muMult'\n",
    "fig, axs = plt.subplots(1, 1, sharey=True, tight_layout=True)\n",
    "\n",
    "# We can set the number of bins with the `bins` kwarg\n",
    "axs.hist([data_train[feat][ind_train_sig],data_train[feat][ind_train_bkg]], bins=9,histtype='step',fill=True,alpha=transp);\n",
    "axs.legend(labels=['QCD',\"Z'\"]);\n",
    "axs.set_xlabel('Normalized '+feat)\n",
    "axs.set_ylabel('Counts')\n",
    "axs.set_title(feat);\n",
    "plt.savefig('plots/'+feat+'.pdf')"
   ]
  },
  {
   "cell_type": "markdown",
   "metadata": {},
   "source": [
    "### jetpull"
   ]
  },
  {
   "cell_type": "code",
   "execution_count": 83,
   "metadata": {},
   "outputs": [
    {
     "data": {
      "image/png": "[encoded data removed]",
      "text/plain": [
       "<Figure size 432x288 with 1 Axes>"
      ]
     },
     "metadata": {
      "needs_background": "light"
     },
     "output_type": "display_data"
    }
   ],
   "source": [
    "feat='jetpull'\n",
    "fig, axs = plt.subplots(1, 1, sharey=True, tight_layout=True)\n",
    "\n",
    "# We can set the number of bins with the `bins` kwarg\n",
    "axs.hist([data_train[feat][ind_train_sig],data_train[feat][ind_train_bkg]], bins=40,histtype='step',fill=True,alpha=transp);\n",
    "axs.legend(labels=['QCD',\"Z'\"]);\n",
    "axs.set_xlabel('Normalized '+feat)\n",
    "axs.set_ylabel('Counts')\n",
    "axs.set_title(feat);\n",
    "plt.savefig('plots/'+feat+'.pdf')"
   ]
  },
  {
   "cell_type": "markdown",
   "metadata": {},
   "source": [
    "## Select Features for Model"
   ]
  },
  {
   "cell_type": "code",
   "execution_count": 46,
   "metadata": {},
   "outputs": [
    {
     "data": {
      "text/plain": [
       "['jetImages',\n",
       " 'jetPt',\n",
       " 'jetEta',\n",
       " 'jetPhi',\n",
       " 'tau21',\n",
       " 'chMult',\n",
       " 'neutMult',\n",
       " 'phoMult',\n",
       " 'eleMult',\n",
       " 'muMult',\n",
       " 'jetpull',\n",
       " 'labels']"
      ]
     },
     "execution_count": 46,
     "metadata": {},
     "output_type": "execute_result"
    }
   ],
   "source": [
    "[key for key in data_dic.keys()]"
   ]
  },
  {
   "cell_type": "code",
   "execution_count": 84,
   "metadata": {},
   "outputs": [],
   "source": [
    "# features will be loaded into X\n",
    "features=['jetImages',\n",
    " 'jetPt',\n",
    " 'jetEta',\n",
    " 'jetPhi',\n",
    " 'tau21',\n",
    " 'chMult',\n",
    " 'neutMult',\n",
    " 'phoMult',\n",
    " 'eleMult',\n",
    " 'muMult',\n",
    " 'jetpull']\n",
    "# label into Y\n",
    "label=['labels']"
   ]
  },
  {
   "cell_type": "code",
   "execution_count": 85,
   "metadata": {},
   "outputs": [],
   "source": [
    "X_train=[data_train[key] for key in features]\n",
    "X_test=[data_test[key] for key in features]\n",
    "Y_train=[data_train[key] for key in label]\n",
    "Y_test=[data_test[key] for key in label]\n",
    "# Reshape pictures for CNN\n",
    "X_train[0]=X_train[0].reshape(n_train, grid, grid, 1)\n",
    "X_test[0]=X_test[0].reshape(n_test, grid, grid, 1)"
   ]
  },
  {
   "cell_type": "code",
   "execution_count": 86,
   "metadata": {},
   "outputs": [],
   "source": [
    "dim=[1 if ele[0].shape==() else ele[0].shape[0] for ele in X_train]\n",
    "for i in range(1,len(X_train)):\n",
    "    X_train[i]=X_train[i].reshape(len(X_train[i]),dim[i])\n",
    "for i in range(1,len(X_test)):\n",
    "    X_test[i]=X_test[i].reshape(len(X_test[i]),dim[i])"
   ]
  },
  {
   "cell_type": "markdown",
   "metadata": {},
   "source": [
    "### Build DNN:"
   ]
  },
  {
   "cell_type": "code",
   "execution_count": 87,
   "metadata": {},
   "outputs": [],
   "source": [
    "def build_model():\n",
    "    input2=[layers.Input(shape=(len(X_train[i][0]),)) for i in range(1,len(X_train))]\n",
    "    input1 = layers.Input(shape = (grid, grid,1))\n",
    "    x = layers.Conv2D(32, (5, 5), activation='relu',padding='same')(input1)\n",
    "    x = layers.Conv2D(32, (3, 3), activation='relu',padding='same')(x)\n",
    "    x = layers.Conv2D(32, (3, 3), activation='relu',padding='same')(x)\n",
    "    x = layers.MaxPool2D((2, 2))(x)\n",
    "    x1 = layers.Flatten()(x)\n",
    "    x = layers.concatenate(inputs = [x1]+input2,axis=-1)\n",
    "    x = layers.Dense(256, activation='relu')(x)\n",
    "    output = layers.Dense(2, activation='softmax')(x)\n",
    "    model = models.Model(inputs=[input1] +input2, outputs=output)\n",
    "    opt=keras.optimizers.Adam(lr=0.0005,beta_1=0.9, beta_2=0.9, amsgrad=False)\n",
    "    model.compile(loss='binary_crossentropy',\n",
    "                optimizer=opt,\n",
    "                metrics=['binary_crossentropy', 'accuracy'])\n",
    "    return model"
   ]
  },
  {
   "cell_type": "markdown",
   "metadata": {},
   "source": [
    "Initialize model:"
   ]
  },
  {
   "cell_type": "code",
   "execution_count": 88,
   "metadata": {},
   "outputs": [
    {
     "name": "stdout",
     "output_type": "stream",
     "text": [
      "WARNING:tensorflow:From /home/schubert/.conda/envs/LRP/lib/python3.7/site-packages/tensorflow/python/framework/op_def_library.py:263: colocate_with (from tensorflow.python.framework.ops) is deprecated and will be removed in a future version.\n",
      "Instructions for updating:\n",
      "Colocations handled automatically by placer.\n"
     ]
    }
   ],
   "source": [
    "circleCNN = build_model()"
   ]
  },
  {
   "cell_type": "markdown",
   "metadata": {},
   "source": [
    "Test model's prediction $before$ training:"
   ]
  },
  {
   "cell_type": "code",
   "execution_count": 89,
   "metadata": {
    "scrolled": true
   },
   "outputs": [
    {
     "name": "stdout",
     "output_type": "stream",
     "text": [
      "10/10 [==============================] - 0s 5ms/step\n",
      "[[0.49717563 0.5028243 ]\n",
      " [0.5008788  0.49912122]\n",
      " [0.50257283 0.4974272 ]\n",
      " [0.49987182 0.5001282 ]\n",
      " [0.5003554  0.49964458]\n",
      " [0.5106508  0.4893492 ]\n",
      " [0.49592063 0.50407934]\n",
      " [0.49642482 0.50357515]\n",
      " [0.49900186 0.5009981 ]\n",
      " [0.49491486 0.5050852 ]]\n",
      "[0.695155680179596, 0.695155680179596, 0.5]\n"
     ]
    }
   ],
   "source": [
    "X_batch =[ele[:10] for ele in X_train]\n",
    "Y_batch =[ele[:10] for ele in Y_train]\n",
    "example_result = circleCNN.predict(x = X_batch)\n",
    "results = circleCNN.evaluate(x = X_batch, y =Y_batch )\n",
    "print(example_result)\n",
    "print(results)"
   ]
  },
  {
   "cell_type": "markdown",
   "metadata": {},
   "source": [
    "Now train! (warning: if building CNN, computer tends to get loud)"
   ]
  },
  {
   "cell_type": "code",
   "execution_count": 30,
   "metadata": {},
   "outputs": [],
   "source": [
    "#circleCNN = keras.models.load_model('model/CNN_full.h2')"
   ]
  },
  {
   "cell_type": "code",
   "execution_count": 31,
   "metadata": {},
   "outputs": [],
   "source": [
    "#circleCNN.save(\"model/CNN_full.h3\")"
   ]
  },
  {
   "cell_type": "code",
   "execution_count": 90,
   "metadata": {},
   "outputs": [
    {
     "name": "stdout",
     "output_type": "stream",
     "text": [
      "WARNING:tensorflow:From /home/schubert/.conda/envs/LRP/lib/python3.7/site-packages/tensorflow/python/ops/math_ops.py:3066: to_int32 (from tensorflow.python.ops.math_ops) is deprecated and will be removed in a future version.\n",
      "Instructions for updating:\n",
      "Use tf.cast instead.\n",
      "Train on 714730 samples, validate on 178683 samples\n",
      "Epoch 1/10\n",
      "714730/714730 [==============================] - 675s 944us/step - loss: 0.4265 - binary_crossentropy: 0.4265 - acc: 0.8130 - val_loss: 0.4105 - val_binary_crossentropy: 0.4105 - val_acc: 0.8205\n",
      "\n",
      "Epoch 00001: val_loss improved from inf to 0.41046, saving model to model/CNN_all.h1\n",
      "Epoch 2/10\n",
      "714730/714730 [==============================] - 675s 945us/step - loss: 0.4069 - binary_crossentropy: 0.4069 - acc: 0.8248 - val_loss: 0.3995 - val_binary_crossentropy: 0.3995 - val_acc: 0.8281\n",
      "\n",
      "Epoch 00002: val_loss improved from 0.41046 to 0.39946, saving model to model/CNN_all.h1\n",
      "Epoch 3/10\n",
      "714730/714730 [==============================] - 683s 956us/step - loss: 0.4037 - binary_crossentropy: 0.4037 - acc: 0.8264 - val_loss: 0.3984 - val_binary_crossentropy: 0.3984 - val_acc: 0.8285\n",
      "\n",
      "Epoch 00003: val_loss improved from 0.39946 to 0.39844, saving model to model/CNN_all.h1\n",
      "Epoch 4/10\n",
      "714730/714730 [==============================] - 687s 962us/step - loss: 0.4027 - binary_crossentropy: 0.4027 - acc: 0.8269 - val_loss: 0.3989 - val_binary_crossentropy: 0.3989 - val_acc: 0.8280\n",
      "\n",
      "Epoch 00004: val_loss did not improve from 0.39844\n",
      "Epoch 5/10\n",
      "714730/714730 [==============================] - 695s 972us/step - loss: 0.4027 - binary_crossentropy: 0.4027 - acc: 0.8277 - val_loss: 0.4017 - val_binary_crossentropy: 0.4017 - val_acc: 0.8295\n",
      "\n",
      "Epoch 00005: val_loss did not improve from 0.39844\n",
      "Epoch 6/10\n",
      "714730/714730 [==============================] - 701s 981us/step - loss: 0.4035 - binary_crossentropy: 0.4035 - acc: 0.8276 - val_loss: 0.4015 - val_binary_crossentropy: 0.4015 - val_acc: 0.8280\n",
      "\n",
      "Epoch 00006: val_loss did not improve from 0.39844\n",
      "Epoch 7/10\n",
      "714730/714730 [==============================] - 702s 982us/step - loss: 0.4038 - binary_crossentropy: 0.4038 - acc: 0.8276 - val_loss: 0.3993 - val_binary_crossentropy: 0.3993 - val_acc: 0.8302\n",
      "\n",
      "Epoch 00007: val_loss did not improve from 0.39844\n",
      "Epoch 8/10\n",
      "714730/714730 [==============================] - 703s 984us/step - loss: 0.4047 - binary_crossentropy: 0.4047 - acc: 0.8273 - val_loss: 0.4051 - val_binary_crossentropy: 0.4051 - val_acc: 0.8254\n",
      "\n",
      "Epoch 00008: val_loss did not improve from 0.39844\n",
      "Epoch 9/10\n",
      "714730/714730 [==============================] - 702s 982us/step - loss: 0.4048 - binary_crossentropy: 0.4048 - acc: 0.8275 - val_loss: 0.4100 - val_binary_crossentropy: 0.4100 - val_acc: 0.8250\n",
      "\n",
      "Epoch 00009: val_loss did not improve from 0.39844\n",
      "Epoch 10/10\n",
      "714730/714730 [==============================] - 702s 982us/step - loss: 0.4048 - binary_crossentropy: 0.4048 - acc: 0.8278 - val_loss: 0.4036 - val_binary_crossentropy: 0.4036 - val_acc: 0.8281\n",
      "\n",
      "Epoch 00010: val_loss did not improve from 0.39844\n"
     ]
    }
   ],
   "source": [
    "# class PrintDot(keras.model.save(filepath)callbacks.Callback):\n",
    "#     def on_epoch_end(self, epoch, logs):\n",
    "#         if epoch % 100 == 0:\n",
    "#             print('')\n",
    "#         print('.', end='')\n",
    "    \n",
    "checkpoint_path = \"model/CNN_all.h1\"\n",
    "if not os.path.exists(\"model\"):\n",
    "    os.mkdir(\"model\")\n",
    "\n",
    "# Create checkpoint callback\n",
    "# cp_callback = tf.keras.callbacks.ModelCheckpoint(checkpoint_path, \n",
    "#                                                  save_best_only=True,\n",
    "#                                                  verbose=1)\n",
    "model_checkpoint = keras.callbacks.ModelCheckpoint(checkpoint_path, monitor='val_loss', \n",
    "                                   verbose=1, save_best_only=True, \n",
    "                                   save_weights_only=False, mode='auto', \n",
    "                                   period=1)    \n",
    "EPOCHS = 10\n",
    "early_stop = keras.callbacks.EarlyStopping(monitor='val_loss', patience=30)\n",
    "history = circleCNN.fit(\n",
    "  X_train, Y_train,\n",
    "  epochs=EPOCHS, validation_split = 0.2, verbose = 1,\n",
    "  callbacks=[early_stop, model_checkpoint])"
   ]
  },
  {
   "cell_type": "markdown",
   "metadata": {},
   "source": [
    "Load best weights."
   ]
  },
  {
   "cell_type": "code",
   "execution_count": 29,
   "metadata": {},
   "outputs": [
    {
     "name": "stdout",
     "output_type": "stream",
     "text": [
      "CNN_full.h1  CNN_full.h2  CNN_full.h3\n",
      "__________________________________________________________________________________________________\n",
      "Layer (type)                    Output Shape         Param #     Connected to                     \n",
      "==================================================================================================\n",
      "input_2 (InputLayer)            (None, 16, 16, 1)    0                                            \n",
      "__________________________________________________________________________________________________\n",
      "conv2d_1 (Conv2D)               (None, 16, 16, 32)   832         input_2[0][0]                    \n",
      "__________________________________________________________________________________________________\n",
      "conv2d_2 (Conv2D)               (None, 16, 16, 32)   9248        conv2d_1[0][0]                   \n",
      "__________________________________________________________________________________________________\n",
      "conv2d_3 (Conv2D)               (None, 16, 16, 32)   9248        conv2d_2[0][0]                   \n",
      "__________________________________________________________________________________________________\n",
      "max_pooling2d_1 (MaxPooling2D)  (None, 8, 8, 32)     0           conv2d_3[0][0]                   \n",
      "__________________________________________________________________________________________________\n",
      "flatten_1 (Flatten)             (None, 2048)         0           max_pooling2d_1[0][0]            \n",
      "__________________________________________________________________________________________________\n",
      "input_1 (InputLayer)            (None, 1)            0                                            \n",
      "__________________________________________________________________________________________________\n",
      "concatenate_1 (Concatenate)     (None, 2049)         0           flatten_1[0][0]                  \n",
      "                                                                 input_1[0][0]                    \n",
      "__________________________________________________________________________________________________\n",
      "dense_1 (Dense)                 (None, 256)          524800      concatenate_1[0][0]              \n",
      "__________________________________________________________________________________________________\n",
      "dense_2 (Dense)                 (None, 2)            514         dense_1[0][0]                    \n",
      "==================================================================================================\n",
      "Total params: 544,642\n",
      "Trainable params: 544,642\n",
      "Non-trainable params: 0\n",
      "__________________________________________________________________________________________________\n",
      "99270/99270 [==============================] - 28s 282us/step\n",
      "[2.01789709451012, 2.01789709451012, 0.7114838319746067]\n"
     ]
    }
   ],
   "source": [
    "!ls model\n",
    "best_model = keras.models.load_model('model/CNN_full.h2')\n",
    "best_model.summary()\n",
    "results = best_model.evaluate(X_test, Y_test)\n",
    "print(results)"
   ]
  },
  {
   "cell_type": "markdown",
   "metadata": {},
   "source": [
    "Evaluate the performance of our DNN! Plot predictions vs. true values (the line is predictions vs. predicitons)."
   ]
  },
  {
   "cell_type": "code",
   "execution_count": 30,
   "metadata": {},
   "outputs": [],
   "source": [
    "predict = best_model.predict(X_test)"
   ]
  },
  {
   "cell_type": "code",
   "execution_count": 31,
   "metadata": {
    "scrolled": false
   },
   "outputs": [
    {
     "data": {
      "image/png": "[encoded data removed]",
      "text/plain": [
       "<Figure size 432x288 with 1 Axes>"
      ]
     },
     "metadata": {
      "needs_background": "light"
     },
     "output_type": "display_data"
    }
   ],
   "source": [
    "# Plot ROC\n",
    "from sklearn.metrics import roc_curve, auc\n",
    "fpr, tpr, thresholds = roc_curve(Y_test[0][:,1], predict[:,1])\n",
    "roc_auc = auc(fpr, tpr)\n",
    "plt.plot(fpr, tpr, lw=2, color='b', label='auc = %.3f' % (roc_auc))\n",
    "plt.plot([0, 1], [0, 1], linestyle='--', lw=2, color='k', label='random chance')\n",
    "plt.xlim([0, 1.0])\n",
    "plt.ylim([0, 1.0])\n",
    "plt.xlabel('false positive rate')\n",
    "plt.ylabel('true positive rate')\n",
    "plt.title('receiver operating curve')\n",
    "plt.legend(loc=\"lower right\")\n",
    "plt.show()"
   ]
  },
  {
   "cell_type": "code",
   "execution_count": null,
   "metadata": {},
   "outputs": [],
   "source": []
  }
 ],
 "metadata": {
  "kernelspec": {
   "display_name": "Python 3",
   "language": "python",
   "name": "python3"
  },
  "language_info": {
   "codemirror_mode": {
    "name": "ipython",
    "version": 3
   },
   "file_extension": ".py",
   "mimetype": "text/x-python",
   "name": "python",
   "nbconvert_exporter": "python",
   "pygments_lexer": "ipython3",
   "version": "3.7.7"
  }
 },
 "nbformat": 4,
 "nbformat_minor": 2
}
