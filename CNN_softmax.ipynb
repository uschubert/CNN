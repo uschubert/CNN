{
 "cells": [
  {
   "cell_type": "code",
   "execution_count": 1,
   "metadata": {},
   "outputs": [
    {
     "name": "stderr",
     "output_type": "stream",
     "text": [
      "/home/schubert/.conda/envs/LRP/lib/python3.7/site-packages/tensorflow/python/framework/dtypes.py:526: FutureWarning: Passing (type, 1) or '1type' as a synonym of type is deprecated; in a future version of numpy, it will be understood as (type, (1,)) / '(1,)type'.\n",
      "  _np_qint8 = np.dtype([(\"qint8\", np.int8, 1)])\n",
      "/home/schubert/.conda/envs/LRP/lib/python3.7/site-packages/tensorflow/python/framework/dtypes.py:527: FutureWarning: Passing (type, 1) or '1type' as a synonym of type is deprecated; in a future version of numpy, it will be understood as (type, (1,)) / '(1,)type'.\n",
      "  _np_quint8 = np.dtype([(\"quint8\", np.uint8, 1)])\n",
      "/home/schubert/.conda/envs/LRP/lib/python3.7/site-packages/tensorflow/python/framework/dtypes.py:528: FutureWarning: Passing (type, 1) or '1type' as a synonym of type is deprecated; in a future version of numpy, it will be understood as (type, (1,)) / '(1,)type'.\n",
      "  _np_qint16 = np.dtype([(\"qint16\", np.int16, 1)])\n",
      "/home/schubert/.conda/envs/LRP/lib/python3.7/site-packages/tensorflow/python/framework/dtypes.py:529: FutureWarning: Passing (type, 1) or '1type' as a synonym of type is deprecated; in a future version of numpy, it will be understood as (type, (1,)) / '(1,)type'.\n",
      "  _np_quint16 = np.dtype([(\"quint16\", np.uint16, 1)])\n",
      "/home/schubert/.conda/envs/LRP/lib/python3.7/site-packages/tensorflow/python/framework/dtypes.py:530: FutureWarning: Passing (type, 1) or '1type' as a synonym of type is deprecated; in a future version of numpy, it will be understood as (type, (1,)) / '(1,)type'.\n",
      "  _np_qint32 = np.dtype([(\"qint32\", np.int32, 1)])\n",
      "/home/schubert/.conda/envs/LRP/lib/python3.7/site-packages/tensorflow/python/framework/dtypes.py:535: FutureWarning: Passing (type, 1) or '1type' as a synonym of type is deprecated; in a future version of numpy, it will be understood as (type, (1,)) / '(1,)type'.\n",
      "  np_resource = np.dtype([(\"resource\", np.ubyte, 1)])\n",
      "Using TensorFlow backend.\n"
     ]
    },
    {
     "name": "stdout",
     "output_type": "stream",
     "text": [
      "1.13.1\n"
     ]
    }
   ],
   "source": [
    "# TensorFlow and tf.keras\n",
    "import tensorflow as tf\n",
    "import random\n",
    "#from tensorflow import keras\n",
    "#from tensorflow.keras import layers\n",
    "import pandas as pd\n",
    "\n",
    "import keras\n",
    "import keras.backend\n",
    "from keras import layers\n",
    "from keras import models\n",
    "from keras import optimizers\n",
    "import keras.utils\n",
    "\n",
    "print(tf.__version__)\n",
    "\n",
    "# Helper libraries\n",
    "import numpy as np\n",
    "import matplotlib.pyplot as plt\n",
    "from matplotlib.colors import LogNorm\n",
    "import math\n",
    "import time\n",
    "import h5py\n",
    "import sklearn\n",
    "from sklearn.utils import shuffle\n",
    "\n",
    "import os"
   ]
  },
  {
   "cell_type": "markdown",
   "metadata": {},
   "source": [
    "## Import data:\n",
    "Using jetImages_signal.npz and jetImages_bkg.npz to train the neural network and using jetImages_signal_test.npz and jetImages_bkg_test.npz for testing."
   ]
  },
  {
   "cell_type": "code",
   "execution_count": 2,
   "metadata": {},
   "outputs": [],
   "source": [
    "grid = 16\n",
    "# training data : 10,000 signal samples and 10,000 bkg samples\n",
    "data= np.load('data/ShowJetsData_full.npz')"
   ]
  },
  {
   "cell_type": "code",
   "execution_count": 3,
   "metadata": {},
   "outputs": [
    {
     "data": {
      "text/plain": [
       "['jetImages',\n",
       " 'jetPt',\n",
       " 'jetEta',\n",
       " 'jetPhi',\n",
       " 'tau21',\n",
       " 'chMult',\n",
       " 'neutMult',\n",
       " 'phoMult',\n",
       " 'eleMult',\n",
       " 'muMult',\n",
       " 'jetpull',\n",
       " 'labels']"
      ]
     },
     "execution_count": 3,
     "metadata": {},
     "output_type": "execute_result"
    }
   ],
   "source": [
    "data_dic={key : data[key]  for key in data.keys()}\n",
    "n_data=len(data_dic['labels'])\n",
    "# one-Hot encode the labels \n",
    "lal=np.arange(2)\n",
    "data_dic['labels']=np.array([[ele[0],np.sum(ele[1:])] for ele in data_dic['labels']]).astype(int)\n",
    "[key for key in data_dic.keys()]"
   ]
  },
  {
   "cell_type": "code",
   "execution_count": 4,
   "metadata": {},
   "outputs": [],
   "source": [
    "# features will be loaded into X\n",
    "features=['jetImages','muMult']\n",
    "# label into Y\n",
    "label=['labels']"
   ]
  },
  {
   "cell_type": "code",
   "execution_count": 5,
   "metadata": {},
   "outputs": [],
   "source": [
    "X=[data_dic[key] for key in features]\n",
    "Y=[data_dic[key] for key in label]\n",
    "# Reshape pictures for CNN\n",
    "X[0]=X[0].reshape(n_data, grid, grid, 1)"
   ]
  },
  {
   "cell_type": "markdown",
   "metadata": {},
   "source": [
    "Split and Balance Data"
   ]
  },
  {
   "cell_type": "code",
   "execution_count": 6,
   "metadata": {},
   "outputs": [],
   "source": [
    "random.seed(1)\n",
    "ind_sig_inb=np.argwhere(Y[0][:,1]==1)[:,0]\n",
    "ind_bkg=np.argwhere(Y[0][:,0]==1)[:,0]\n",
    "ind_sig=random.choices(ind_sig_inb,k=len(ind_bkg))"
   ]
  },
  {
   "cell_type": "code",
   "execution_count": 7,
   "metadata": {},
   "outputs": [],
   "source": [
    "X_sig=[ele[ind_sig] for ele in X]\n",
    "Y_sig=[ele[ind_sig] for ele in Y]\n",
    "X_bkg=[ele[ind_bkg] for ele in X]\n",
    "Y_bkg=[ele[ind_bkg] for ele in Y]"
   ]
  },
  {
   "cell_type": "code",
   "execution_count": 8,
   "metadata": {},
   "outputs": [
    {
     "data": {
      "image/png": "[encoded data removed]",
      "text/plain": [
       "<Figure size 432x288 with 2 Axes>"
      ]
     },
     "metadata": {
      "needs_background": "light"
     },
     "output_type": "display_data"
    }
   ],
   "source": [
    "#plot input signal and background\n",
    "sig_images=0\n",
    "for ele in X_sig[0]:\n",
    "    sig_images += ele\n",
    "bkg_images =0\n",
    "for ele in X_bkg[0]:\n",
    "    bkg_images += ele\n",
    "#signal\n",
    "display_sig = sig_images.reshape(grid,grid)\n",
    "plt.grid(False)\n",
    "plt.imshow(display_sig, interpolation='nearest', origin='low', cmap = 'jet', norm=LogNorm())\n",
    "plt.colorbar()\n",
    "plt.show()"
   ]
  },
  {
   "cell_type": "code",
   "execution_count": 9,
   "metadata": {},
   "outputs": [
    {
     "data": {
      "image/png": "[encoded data removed]",
      "text/plain": [
       "<Figure size 432x288 with 2 Axes>"
      ]
     },
     "metadata": {
      "needs_background": "light"
     },
     "output_type": "display_data"
    }
   ],
   "source": [
    "#background\n",
    "display_bkg = bkg_images.reshape(grid,grid)\n",
    "plt.grid(False)\n",
    "plt.imshow(display_bkg, interpolation='nearest', origin='low', cmap = 'jet', norm=LogNorm())\n",
    "plt.colorbar()\n",
    "plt.show()"
   ]
  },
  {
   "cell_type": "markdown",
   "metadata": {},
   "source": [
    "### Split into train and test set and balance numbers"
   ]
  },
  {
   "cell_type": "markdown",
   "metadata": {},
   "source": [
    "balance data"
   ]
  },
  {
   "cell_type": "code",
   "execution_count": 10,
   "metadata": {},
   "outputs": [
    {
     "name": "stdout",
     "output_type": "stream",
     "text": [
      "496341\n",
      "496341\n"
     ]
    }
   ],
   "source": [
    "print(len(X_sig[0]))\n",
    "print(len(X_bkg[0]))"
   ]
  },
  {
   "cell_type": "markdown",
   "metadata": {},
   "source": [
    "split into train and test set"
   ]
  },
  {
   "cell_type": "code",
   "execution_count": 11,
   "metadata": {},
   "outputs": [],
   "source": [
    "# Give train test split percentage\n",
    "split=0.9"
   ]
  },
  {
   "cell_type": "code",
   "execution_count": 12,
   "metadata": {},
   "outputs": [],
   "source": [
    "random.seed(2)\n",
    "ind_sig=np.random.permutation(len(X_sig[0]))\n",
    "ind_bkg=np.random.permutation(len(X_bkg[0]))\n",
    "ind_sig_train=ind_sig[:int(split*len(X_sig[0]))]\n",
    "ind_sig_test=ind_sig[int(split*len(X_sig[0])):]\n",
    "ind_bkg_train=ind_sig[:int(split*len(X_sig[0]))]\n",
    "ind_bkg_test=ind_sig[int(split*len(X_sig[0])):]"
   ]
  },
  {
   "cell_type": "code",
   "execution_count": 13,
   "metadata": {},
   "outputs": [],
   "source": [
    "X_train=[np.concatenate((X_sig[i][ind_sig_train],X_bkg[i][ind_bkg_train]),axis=0) for i in range(len(X_sig))]\n",
    "Y_train=[np.concatenate((Y_sig[i][ind_sig_train],Y_bkg[i][ind_bkg_train]),axis=0) for i in range(len(Y_sig))]\n",
    "X_test=[np.concatenate((X_sig[i][ind_sig_test],X_bkg[i][ind_bkg_test]),axis=0) for i in range(len(X_sig))]\n",
    "Y_test=[np.concatenate((Y_sig[i][ind_sig_test],Y_bkg[i][ind_bkg_test]),axis=0) for i in range(len(Y_sig))]"
   ]
  },
  {
   "cell_type": "markdown",
   "metadata": {},
   "source": [
    "Reshape all features"
   ]
  },
  {
   "cell_type": "code",
   "execution_count": 14,
   "metadata": {},
   "outputs": [],
   "source": [
    "dim=[1 if ele[0].shape==() else ele[0].shape[0] for ele in X_train]\n",
    "for i in range(1,len(X_train)):\n",
    "    X_train[i]=X_train[i].reshape(len(X_train[i]),dim[i])\n",
    "for i in range(1,len(X_test)):\n",
    "    X_test[i]=X_test[i].reshape(len(X_test[i]),dim[i])"
   ]
  },
  {
   "cell_type": "markdown",
   "metadata": {},
   "source": [
    "Normalize data"
   ]
  },
  {
   "cell_type": "code",
   "execution_count": 15,
   "metadata": {},
   "outputs": [],
   "source": [
    "minn=np.min(X_train[i])\n",
    "maxx=np.max(X_train[i])\n",
    "X_train[0]=(X_train[0]-minn)/(maxx-minn)"
   ]
  },
  {
   "cell_type": "code",
   "execution_count": 16,
   "metadata": {},
   "outputs": [],
   "source": [
    "for i in range(1,len(X_train)):\n",
    "    minn=np.min(X_train[i],axis=0)\n",
    "    maxx=np.max(X_train[i],axis=0)\n",
    "    X_train[i]=(X_train[i]-minn)/(maxx-minn)"
   ]
  },
  {
   "cell_type": "code",
   "execution_count": 17,
   "metadata": {},
   "outputs": [],
   "source": [
    "minn=np.min(X_test[i])\n",
    "maxx=np.max(X_test[i])\n",
    "X_test[0]=(X_test[0]-minn)/(maxx-minn)"
   ]
  },
  {
   "cell_type": "code",
   "execution_count": 18,
   "metadata": {},
   "outputs": [],
   "source": [
    "for i in range(1,len(X_test)):\n",
    "    minn=np.min(X_test[i],axis=0)\n",
    "    maxx=np.max(X_test[i],axis=0)\n",
    "    X_test[i]=(X_test[i]-minn)/(maxx-minn)"
   ]
  },
  {
   "cell_type": "markdown",
   "metadata": {},
   "source": [
    "### Build DNN:"
   ]
  },
  {
   "cell_type": "code",
   "execution_count": 19,
   "metadata": {},
   "outputs": [],
   "source": [
    "def build_model():\n",
    "    input2=[layers.Input(shape=(len(X_train[i][0]),)) for i in range(1,len(X_train))]\n",
    "    input1 = layers.Input(shape = (grid, grid,1))\n",
    "    x = layers.Conv2D(32, (5, 5), activation='relu',padding='same')(input1)\n",
    "    x = layers.Conv2D(32, (3, 3), activation='relu',padding='same')(x)\n",
    "    x = layers.Conv2D(32, (3, 3), activation='relu',padding='same')(x)\n",
    "    x = layers.MaxPool2D((2, 2))(x)\n",
    "    x1 = layers.Flatten()(x)\n",
    "    x = layers.concatenate(inputs = [x1]+input2,axis=-1)\n",
    "    x = layers.Dense(256, activation='relu')(x)\n",
    "    output = layers.Dense(2, activation='softmax')(x)\n",
    "    model = models.Model(inputs=[input1] +input2, outputs=output)\n",
    "    opt=keras.optimizers.Adam(lr=0.0005,beta_1=0.9, beta_2=0.9, amsgrad=False)\n",
    "    model.compile(loss='binary_crossentropy',\n",
    "                optimizer=opt,\n",
    "                metrics=['binary_crossentropy', 'accuracy'])\n",
    "    return model"
   ]
  },
  {
   "cell_type": "markdown",
   "metadata": {},
   "source": [
    "Initialize model:"
   ]
  },
  {
   "cell_type": "code",
   "execution_count": 20,
   "metadata": {},
   "outputs": [
    {
     "name": "stdout",
     "output_type": "stream",
     "text": [
      "WARNING:tensorflow:From /home/schubert/.conda/envs/LRP/lib/python3.7/site-packages/tensorflow/python/framework/op_def_library.py:263: colocate_with (from tensorflow.python.framework.ops) is deprecated and will be removed in a future version.\n",
      "Instructions for updating:\n",
      "Colocations handled automatically by placer.\n"
     ]
    }
   ],
   "source": [
    "circleCNN = build_model()"
   ]
  },
  {
   "cell_type": "markdown",
   "metadata": {},
   "source": [
    "Test model's prediction $before$ training:"
   ]
  },
  {
   "cell_type": "code",
   "execution_count": 21,
   "metadata": {
    "scrolled": true
   },
   "outputs": [
    {
     "name": "stdout",
     "output_type": "stream",
     "text": [
      "200/200 [==============================] - 0s 326us/step\n",
      "[[0.4999397  0.50006026]\n",
      " [0.49994835 0.5000516 ]\n",
      " [0.49993455 0.5000654 ]\n",
      " [0.49986634 0.50013375]\n",
      " [0.49991956 0.50008047]\n",
      " [0.49982947 0.50017047]\n",
      " [0.5001153  0.4998847 ]\n",
      " [0.49996033 0.50003964]\n",
      " [0.49993014 0.50006986]\n",
      " [0.49990788 0.5000921 ]\n",
      " [0.4999388  0.50006115]\n",
      " [0.4998914  0.50010854]\n",
      " [0.50002253 0.49997753]\n",
      " [0.49986145 0.5001386 ]\n",
      " [0.50007993 0.49992007]\n",
      " [0.49986565 0.5001344 ]\n",
      " [0.49979958 0.50020045]\n",
      " [0.5000188  0.49998125]\n",
      " [0.50004613 0.49995393]\n",
      " [0.49867922 0.5013207 ]\n",
      " [0.5001324  0.49986768]\n",
      " [0.49992567 0.5000743 ]\n",
      " [0.49994752 0.50005245]\n",
      " [0.4997707  0.50022936]\n",
      " [0.49970227 0.5002977 ]\n",
      " [0.5000331  0.49996698]\n",
      " [0.49834785 0.5016521 ]\n",
      " [0.4998858  0.50011414]\n",
      " [0.49816158 0.5018384 ]\n",
      " [0.49999318 0.5000068 ]\n",
      " [0.499794   0.50020593]\n",
      " [0.49996197 0.500038  ]\n",
      " [0.49988446 0.5001155 ]\n",
      " [0.4999629  0.50003713]\n",
      " [0.4997856  0.5002144 ]\n",
      " [0.49818113 0.5018189 ]\n",
      " [0.49994746 0.5000526 ]\n",
      " [0.49993747 0.5000625 ]\n",
      " [0.49975356 0.50024647]\n",
      " [0.500069   0.499931  ]\n",
      " [0.4999355  0.5000645 ]\n",
      " [0.49996704 0.500033  ]\n",
      " [0.499936   0.50006396]\n",
      " [0.4998849  0.5001151 ]\n",
      " [0.49990267 0.5000973 ]\n",
      " [0.4996825  0.50031745]\n",
      " [0.50005835 0.49994165]\n",
      " [0.49994174 0.50005823]\n",
      " [0.49986404 0.50013596]\n",
      " [0.49984142 0.5001586 ]\n",
      " [0.49998552 0.5000145 ]\n",
      " [0.49983606 0.5001639 ]\n",
      " [0.49836373 0.50163627]\n",
      " [0.5000007  0.49999928]\n",
      " [0.4999224  0.50007755]\n",
      " [0.499893   0.50010693]\n",
      " [0.5000405  0.4999596 ]\n",
      " [0.4998542  0.50014585]\n",
      " [0.4999997  0.5000003 ]\n",
      " [0.49818954 0.50181055]\n",
      " [0.5000518  0.49994817]\n",
      " [0.49995348 0.50004655]\n",
      " [0.49986425 0.5001358 ]\n",
      " [0.5000082  0.49999174]\n",
      " [0.49647194 0.50352806]\n",
      " [0.4999165  0.5000835 ]\n",
      " [0.49970222 0.5002977 ]\n",
      " [0.49990052 0.5000994 ]\n",
      " [0.49994493 0.50005513]\n",
      " [0.4999955  0.5000045 ]\n",
      " [0.50006354 0.4999365 ]\n",
      " [0.49998343 0.50001657]\n",
      " [0.49842864 0.5015714 ]\n",
      " [0.49990955 0.5000905 ]\n",
      " [0.49976373 0.5002363 ]\n",
      " [0.50005174 0.49994832]\n",
      " [0.49823955 0.5017605 ]\n",
      " [0.5000727  0.49992728]\n",
      " [0.49993604 0.5000639 ]\n",
      " [0.49844614 0.50155383]\n",
      " [0.5000677  0.4999323 ]\n",
      " [0.49993002 0.5000699 ]\n",
      " [0.4998772  0.50012285]\n",
      " [0.4997852  0.5002148 ]\n",
      " [0.49978408 0.500216  ]\n",
      " [0.49969667 0.5003034 ]\n",
      " [0.49977487 0.5002252 ]\n",
      " [0.49839833 0.50160164]\n",
      " [0.49829268 0.50170726]\n",
      " [0.499986   0.50001407]\n",
      " [0.50002885 0.49997115]\n",
      " [0.50000817 0.49999183]\n",
      " [0.49991888 0.5000811 ]\n",
      " [0.49994224 0.50005776]\n",
      " [0.50006783 0.49993217]\n",
      " [0.49999207 0.500008  ]\n",
      " [0.50013876 0.4998613 ]\n",
      " [0.49986652 0.5001336 ]\n",
      " [0.49832258 0.50167745]\n",
      " [0.49998856 0.5000115 ]\n",
      " [0.4997878  0.5002122 ]\n",
      " [0.49996534 0.5000347 ]\n",
      " [0.49991795 0.5000821 ]\n",
      " [0.49991986 0.5000801 ]\n",
      " [0.49998283 0.50001717]\n",
      " [0.4998444  0.5001556 ]\n",
      " [0.49998108 0.5000189 ]\n",
      " [0.49998102 0.500019  ]\n",
      " [0.49999174 0.5000083 ]\n",
      " [0.49995047 0.50004953]\n",
      " [0.49993706 0.5000629 ]\n",
      " [0.49986097 0.500139  ]\n",
      " [0.49986482 0.5001352 ]\n",
      " [0.49983317 0.5001668 ]\n",
      " [0.5000826  0.4999174 ]\n",
      " [0.49992102 0.5000789 ]\n",
      " [0.4999213  0.50007874]\n",
      " [0.4998061  0.50019383]\n",
      " [0.5        0.5       ]\n",
      " [0.49981746 0.50018257]\n",
      " [0.49999052 0.50000954]\n",
      " [0.49991944 0.5000806 ]\n",
      " [0.49998772 0.5000123 ]\n",
      " [0.4998672  0.50013286]\n",
      " [0.49990955 0.5000904 ]\n",
      " [0.49965924 0.5003407 ]\n",
      " [0.4999437  0.5000563 ]\n",
      " [0.4998223  0.50017774]\n",
      " [0.499943   0.500057  ]\n",
      " [0.49978608 0.5002139 ]\n",
      " [0.499902   0.50009793]\n",
      " [0.5000019  0.49999815]\n",
      " [0.49993843 0.5000615 ]\n",
      " [0.49990842 0.50009155]\n",
      " [0.5000041  0.49999586]\n",
      " [0.49984092 0.5001591 ]\n",
      " [0.49991316 0.5000868 ]\n",
      " [0.49986374 0.50013626]\n",
      " [0.49852282 0.5014772 ]\n",
      " [0.4999019  0.5000981 ]\n",
      " [0.5000638  0.49993616]\n",
      " [0.4999679  0.50003207]\n",
      " [0.500034   0.49996603]\n",
      " [0.49984974 0.50015026]\n",
      " [0.50002587 0.4999742 ]\n",
      " [0.49826142 0.50173855]\n",
      " [0.5001784  0.49982163]\n",
      " [0.49628264 0.5037173 ]\n",
      " [0.49994564 0.50005436]\n",
      " [0.500001   0.49999905]\n",
      " [0.4999394  0.5000606 ]\n",
      " [0.5000359  0.49996418]\n",
      " [0.4998144  0.50018555]\n",
      " [0.4983224  0.5016776 ]\n",
      " [0.49999475 0.50000525]\n",
      " [0.49992353 0.5000764 ]\n",
      " [0.49990335 0.5000966 ]\n",
      " [0.49985132 0.50014865]\n",
      " [0.49975568 0.5002444 ]\n",
      " [0.49991733 0.5000827 ]\n",
      " [0.5001963  0.49980372]\n",
      " [0.49988842 0.5001115 ]\n",
      " [0.4998526  0.50014746]\n",
      " [0.49997187 0.5000282 ]\n",
      " [0.49989477 0.50010526]\n",
      " [0.49979317 0.50020677]\n",
      " [0.5001331  0.49986693]\n",
      " [0.50016755 0.49983245]\n",
      " [0.5001163  0.4998837 ]\n",
      " [0.49996006 0.50003994]\n",
      " [0.49981013 0.5001899 ]\n",
      " [0.49994966 0.5000503 ]\n",
      " [0.49975398 0.500246  ]\n",
      " [0.49993277 0.5000672 ]\n",
      " [0.49988598 0.500114  ]\n",
      " [0.49982524 0.5001748 ]\n",
      " [0.49998146 0.50001854]\n",
      " [0.49992284 0.5000771 ]\n",
      " [0.49991763 0.5000824 ]\n",
      " [0.4999588  0.5000412 ]\n",
      " [0.49988312 0.5001169 ]\n",
      " [0.49989024 0.5001097 ]\n",
      " [0.49827564 0.5017243 ]\n",
      " [0.5000075  0.49999252]\n",
      " [0.49980047 0.5001995 ]\n",
      " [0.4998974  0.5001026 ]\n",
      " [0.49993727 0.50006276]\n",
      " [0.49991798 0.50008196]\n",
      " [0.49986452 0.5001355 ]\n",
      " [0.4999526  0.5000474 ]\n",
      " [0.50000805 0.499992  ]\n",
      " [0.4998934  0.5001065 ]\n",
      " [0.49838042 0.5016196 ]\n",
      " [0.49996555 0.50003445]\n",
      " [0.5000121  0.49998787]\n",
      " [0.4999571  0.50004286]\n",
      " [0.49982232 0.5001777 ]\n",
      " [0.49814802 0.501852  ]\n",
      " [0.49994847 0.5000515 ]\n",
      " [0.49982765 0.5001723 ]]\n",
      "[0.6926456642150879, 0.6926456642150879, 0.8125]\n"
     ]
    }
   ],
   "source": [
    "X_batch =[ele[:200] for ele in X_train]\n",
    "Y_batch =[ele[:200] for ele in Y_train]\n",
    "example_result = circleCNN.predict(x = X_batch)\n",
    "results = circleCNN.evaluate(x = X_batch, y =Y_batch )\n",
    "print(example_result)\n",
    "print(results)"
   ]
  },
  {
   "cell_type": "markdown",
   "metadata": {},
   "source": [
    "Now train! (warning: if building CNN, computer tends to get loud)"
   ]
  },
  {
   "cell_type": "code",
   "execution_count": 22,
   "metadata": {},
   "outputs": [],
   "source": [
    "#circleCNN = keras.models.load_model('model/CNN_full.h2')"
   ]
  },
  {
   "cell_type": "code",
   "execution_count": 29,
   "metadata": {},
   "outputs": [],
   "source": [
    "circleCNN.save(\"model/CNN_full.h3\")"
   ]
  },
  {
   "cell_type": "code",
   "execution_count": 25,
   "metadata": {},
   "outputs": [
    {
     "name": "stdout",
     "output_type": "stream",
     "text": [
      "WARNING:tensorflow:From /home/schubert/.conda/envs/LRP/lib/python3.7/site-packages/tensorflow/python/ops/math_ops.py:3066: to_int32 (from tensorflow.python.ops.math_ops) is deprecated and will be removed in a future version.\n",
      "Instructions for updating:\n",
      "Use tf.cast instead.\n",
      "Train on 714729 samples, validate on 178683 samples\n",
      "Epoch 1/30\n",
      "714729/714729 [==============================] - 660s 923us/step - loss: 0.5324 - binary_crossentropy: 0.5324 - acc: 0.7264 - val_loss: 0.6715 - val_binary_crossentropy: 0.6715 - val_acc: 0.6961\n",
      "\n",
      "Epoch 00001: val_loss improved from inf to 0.67146, saving model to model/CNN_full.h2\n",
      "Epoch 2/30\n",
      "714729/714729 [==============================] - 713s 998us/step - loss: 0.5115 - binary_crossentropy: 0.5115 - acc: 0.7440 - val_loss: 0.6375 - val_binary_crossentropy: 0.6375 - val_acc: 0.7154\n",
      "\n",
      "Epoch 00002: val_loss improved from 0.67146 to 0.63748, saving model to model/CNN_full.h2\n",
      "Epoch 3/30\n",
      "714729/714729 [==============================] - 731s 1ms/step - loss: 0.5086 - binary_crossentropy: 0.5086 - acc: 0.7464 - val_loss: 0.7204 - val_binary_crossentropy: 0.7204 - val_acc: 0.6802\n",
      "\n",
      "Epoch 00003: val_loss did not improve from 0.63748\n",
      "Epoch 4/30\n",
      "714729/714729 [==============================] - 754s 1ms/step - loss: 0.5092 - binary_crossentropy: 0.5092 - acc: 0.7471 - val_loss: 0.7367 - val_binary_crossentropy: 0.7367 - val_acc: 0.6647\n",
      "\n",
      "Epoch 00004: val_loss did not improve from 0.63748\n",
      "Epoch 5/30\n",
      "714729/714729 [==============================] - 744s 1ms/step - loss: 0.5111 - binary_crossentropy: 0.5111 - acc: 0.7465 - val_loss: 0.8428 - val_binary_crossentropy: 0.8428 - val_acc: 0.5366\n",
      "\n",
      "Epoch 00005: val_loss did not improve from 0.63748\n",
      "Epoch 6/30\n",
      "714729/714729 [==============================] - 763s 1ms/step - loss: 0.5130 - binary_crossentropy: 0.5130 - acc: 0.7461 - val_loss: 0.6501 - val_binary_crossentropy: 0.6501 - val_acc: 0.7253\n",
      "\n",
      "Epoch 00006: val_loss did not improve from 0.63748\n",
      "Epoch 7/30\n",
      "714729/714729 [==============================] - 756s 1ms/step - loss: 0.5157 - binary_crossentropy: 0.5157 - acc: 0.7461 - val_loss: 0.7481 - val_binary_crossentropy: 0.7481 - val_acc: 0.6432\n",
      "\n",
      "Epoch 00007: val_loss did not improve from 0.63748\n",
      "Epoch 8/30\n",
      "714729/714729 [==============================] - 774s 1ms/step - loss: 0.5164 - binary_crossentropy: 0.5164 - acc: 0.7467 - val_loss: 0.7383 - val_binary_crossentropy: 0.7383 - val_acc: 0.6485\n",
      "\n",
      "Epoch 00008: val_loss did not improve from 0.63748\n",
      "Epoch 9/30\n",
      "714729/714729 [==============================] - 779s 1ms/step - loss: 0.5190 - binary_crossentropy: 0.5190 - acc: 0.7468 - val_loss: 0.9887 - val_binary_crossentropy: 0.9887 - val_acc: 0.6002\n",
      "\n",
      "Epoch 00009: val_loss did not improve from 0.63748\n",
      "Epoch 10/30\n",
      "714729/714729 [==============================] - 772s 1ms/step - loss: 0.5195 - binary_crossentropy: 0.5195 - acc: 0.7470 - val_loss: 0.7882 - val_binary_crossentropy: 0.7882 - val_acc: 0.6449\n",
      "\n",
      "Epoch 00010: val_loss did not improve from 0.63748\n",
      "Epoch 11/30\n",
      "714729/714729 [==============================] - 778s 1ms/step - loss: 0.5213 - binary_crossentropy: 0.5213 - acc: 0.7472 - val_loss: 0.6986 - val_binary_crossentropy: 0.6986 - val_acc: 0.7066\n",
      "\n",
      "Epoch 00011: val_loss did not improve from 0.63748\n",
      "Epoch 12/30\n",
      "714729/714729 [==============================] - 768s 1ms/step - loss: 0.5214 - binary_crossentropy: 0.5214 - acc: 0.7471 - val_loss: 0.7771 - val_binary_crossentropy: 0.7771 - val_acc: 0.6806\n",
      "\n",
      "Epoch 00012: val_loss did not improve from 0.63748\n",
      "Epoch 13/30\n",
      "714729/714729 [==============================] - 775s 1ms/step - loss: 0.5239 - binary_crossentropy: 0.5239 - acc: 0.7474 - val_loss: 0.8407 - val_binary_crossentropy: 0.8407 - val_acc: 0.5919\n",
      "\n",
      "Epoch 00013: val_loss did not improve from 0.63748\n",
      "Epoch 14/30\n",
      "714729/714729 [==============================] - 767s 1ms/step - loss: 0.5255 - binary_crossentropy: 0.5255 - acc: 0.7468 - val_loss: 0.8159 - val_binary_crossentropy: 0.8159 - val_acc: 0.6303\n",
      "\n",
      "Epoch 00014: val_loss did not improve from 0.63748\n",
      "Epoch 15/30\n",
      "714729/714729 [==============================] - 774s 1ms/step - loss: 0.5316 - binary_crossentropy: 0.5316 - acc: 0.7468 - val_loss: 0.7137 - val_binary_crossentropy: 0.7137 - val_acc: 0.7136\n",
      "\n",
      "Epoch 00015: val_loss did not improve from 0.63748\n",
      "Epoch 16/30\n",
      "714729/714729 [==============================] - 781s 1ms/step - loss: 0.5345 - binary_crossentropy: 0.5345 - acc: 0.7468 - val_loss: 0.9637 - val_binary_crossentropy: 0.9637 - val_acc: 0.5506\n",
      "\n",
      "Epoch 00016: val_loss did not improve from 0.63748\n",
      "Epoch 17/30\n",
      "714729/714729 [==============================] - 768s 1ms/step - loss: 0.5360 - binary_crossentropy: 0.5360 - acc: 0.7461 - val_loss: 0.6958 - val_binary_crossentropy: 0.6958 - val_acc: 0.7243\n",
      "\n",
      "Epoch 00017: val_loss did not improve from 0.63748\n",
      "Epoch 18/30\n",
      "714729/714729 [==============================] - 774s 1ms/step - loss: 0.5337 - binary_crossentropy: 0.5337 - acc: 0.7467 - val_loss: 0.9673 - val_binary_crossentropy: 0.9673 - val_acc: 0.6606\n",
      "\n",
      "Epoch 00018: val_loss did not improve from 0.63748\n",
      "Epoch 19/30\n",
      "714729/714729 [==============================] - 776s 1ms/step - loss: 0.5430 - binary_crossentropy: 0.5430 - acc: 0.7464 - val_loss: 0.7431 - val_binary_crossentropy: 0.7431 - val_acc: 0.7117\n",
      "\n",
      "Epoch 00019: val_loss did not improve from 0.63748\n",
      "Epoch 20/30\n",
      "714729/714729 [==============================] - 779s 1ms/step - loss: 0.5345 - binary_crossentropy: 0.5345 - acc: 0.7462 - val_loss: 0.8217 - val_binary_crossentropy: 0.8217 - val_acc: 0.6235\n",
      "\n",
      "Epoch 00020: val_loss did not improve from 0.63748\n",
      "Epoch 21/30\n",
      "714729/714729 [==============================] - 743s 1ms/step - loss: 0.5298 - binary_crossentropy: 0.5298 - acc: 0.7467 - val_loss: 0.7607 - val_binary_crossentropy: 0.7607 - val_acc: 0.6923\n",
      "\n",
      "Epoch 00021: val_loss did not improve from 0.63748\n",
      "Epoch 22/30\n",
      "714729/714729 [==============================] - 741s 1ms/step - loss: 0.5294 - binary_crossentropy: 0.5294 - acc: 0.7465 - val_loss: 0.7941 - val_binary_crossentropy: 0.7941 - val_acc: 0.6767\n",
      "\n",
      "Epoch 00022: val_loss did not improve from 0.63748\n",
      "Epoch 23/30\n",
      "714729/714729 [==============================] - 751s 1ms/step - loss: 0.5305 - binary_crossentropy: 0.5305 - acc: 0.7467 - val_loss: 0.8991 - val_binary_crossentropy: 0.8991 - val_acc: 0.6395\n",
      "\n",
      "Epoch 00023: val_loss did not improve from 0.63748\n",
      "Epoch 24/30\n",
      "714729/714729 [==============================] - 748s 1ms/step - loss: 0.5331 - binary_crossentropy: 0.5331 - acc: 0.7466 - val_loss: 0.6339 - val_binary_crossentropy: 0.6339 - val_acc: 0.7725\n",
      "\n",
      "Epoch 00024: val_loss improved from 0.63748 to 0.63386, saving model to model/CNN_full.h2\n",
      "Epoch 25/30\n",
      "714729/714729 [==============================] - 744s 1ms/step - loss: 0.5263 - binary_crossentropy: 0.5263 - acc: 0.7465 - val_loss: 0.6979 - val_binary_crossentropy: 0.6979 - val_acc: 0.7051\n",
      "\n",
      "Epoch 00025: val_loss did not improve from 0.63386\n",
      "Epoch 26/30\n",
      "714729/714729 [==============================] - 739s 1ms/step - loss: 0.5280 - binary_crossentropy: 0.5280 - acc: 0.7467 - val_loss: 0.9234 - val_binary_crossentropy: 0.9234 - val_acc: 0.5208\n",
      "\n",
      "Epoch 00026: val_loss did not improve from 0.63386\n",
      "Epoch 27/30\n",
      "714729/714729 [==============================] - 744s 1ms/step - loss: 0.5313 - binary_crossentropy: 0.5313 - acc: 0.7466 - val_loss: 0.8259 - val_binary_crossentropy: 0.8259 - val_acc: 0.6625\n",
      "\n",
      "Epoch 00027: val_loss did not improve from 0.63386\n",
      "Epoch 28/30\n",
      "714729/714729 [==============================] - 746s 1ms/step - loss: 0.5357 - binary_crossentropy: 0.5357 - acc: 0.7465 - val_loss: 0.7611 - val_binary_crossentropy: 0.7611 - val_acc: 0.6822\n",
      "\n",
      "Epoch 00028: val_loss did not improve from 0.63386\n",
      "Epoch 29/30\n",
      "714729/714729 [==============================] - 741s 1ms/step - loss: 0.5432 - binary_crossentropy: 0.5432 - acc: 0.7462 - val_loss: 0.8398 - val_binary_crossentropy: 0.8398 - val_acc: 0.6200\n",
      "\n",
      "Epoch 00029: val_loss did not improve from 0.63386\n",
      "Epoch 30/30\n",
      "714729/714729 [==============================] - 744s 1ms/step - loss: 0.5379 - binary_crossentropy: 0.5379 - acc: 0.7461 - val_loss: 0.8539 - val_binary_crossentropy: 0.8539 - val_acc: 0.6527\n",
      "\n",
      "Epoch 00030: val_loss did not improve from 0.63386\n"
     ]
    }
   ],
   "source": [
    "# class PrintDot(keras.model.save(filepath)callbacks.Callback):\n",
    "#     def on_epoch_end(self, epoch, logs):\n",
    "#         if epoch % 100 == 0:\n",
    "#             print('')\n",
    "#         print('.', end='')\n",
    "    \n",
    "checkpoint_path = \"model/CNN_full.h2\"\n",
    "if not os.path.exists(\"model\"):\n",
    "    os.mkdir(\"model\")\n",
    "\n",
    "# Create checkpoint callback\n",
    "# cp_callback = tf.keras.callbacks.ModelCheckpoint(checkpoint_path, \n",
    "#                                                  save_best_only=True,\n",
    "#                                                  verbose=1)\n",
    "model_checkpoint = keras.callbacks.ModelCheckpoint(checkpoint_path, monitor='val_loss', \n",
    "                                   verbose=1, save_best_only=True, \n",
    "                                   save_weights_only=False, mode='auto', \n",
    "                                   period=1)    \n",
    "EPOCHS = 30\n",
    "early_stop = keras.callbacks.EarlyStopping(monitor='val_loss', patience=30)\n",
    "history = circleCNN.fit(\n",
    "  X_train, Y_train,\n",
    "  epochs=EPOCHS, validation_split = 0.2, verbose = 1,\n",
    "  callbacks=[early_stop, model_checkpoint])"
   ]
  },
  {
   "cell_type": "markdown",
   "metadata": {},
   "source": [
    "Now make a plot that shows the pregression of accuracy through each training epoch."
   ]
  },
  {
   "cell_type": "code",
   "execution_count": 25,
   "metadata": {},
   "outputs": [],
   "source": [
    "# def plot_history(history):\n",
    "#   hist = pd.DataFrame(history.history)\n",
    "#   hist['epoch'] = history.epoch\n",
    "  \n",
    "#   plt.figure()\n",
    "#   plt.xlabel('Epoch')\n",
    "#   plt.ylabel('Mean Square Error')\n",
    "#   plt.plot(hist['epoch'], hist['binary'],\n",
    "#            label='Train Error')\n",
    "#   plt.plot(hist['epoch'], hist['val_mean_squared_error'],\n",
    "#            label = 'Val Error')\n",
    "#   plt.ylim([0,100])\n",
    "#   plt.legend()\n",
    "#   plt.show()\n",
    "\n",
    "# plot_history(history)"
   ]
  },
  {
   "cell_type": "markdown",
   "metadata": {},
   "source": [
    "Load best weights."
   ]
  },
  {
   "cell_type": "code",
   "execution_count": 30,
   "metadata": {},
   "outputs": [
    {
     "name": "stdout",
     "output_type": "stream",
     "text": [
      "CNN_full.h1  CNN_full.h2  CNN_full.h3\n",
      "__________________________________________________________________________________________________\n",
      "Layer (type)                    Output Shape         Param #     Connected to                     \n",
      "==================================================================================================\n",
      "input_2 (InputLayer)            (None, 16, 16, 1)    0                                            \n",
      "__________________________________________________________________________________________________\n",
      "conv2d_1 (Conv2D)               (None, 16, 16, 32)   832         input_2[0][0]                    \n",
      "__________________________________________________________________________________________________\n",
      "conv2d_2 (Conv2D)               (None, 16, 16, 32)   9248        conv2d_1[0][0]                   \n",
      "__________________________________________________________________________________________________\n",
      "conv2d_3 (Conv2D)               (None, 16, 16, 32)   9248        conv2d_2[0][0]                   \n",
      "__________________________________________________________________________________________________\n",
      "max_pooling2d_1 (MaxPooling2D)  (None, 8, 8, 32)     0           conv2d_3[0][0]                   \n",
      "__________________________________________________________________________________________________\n",
      "flatten_1 (Flatten)             (None, 2048)         0           max_pooling2d_1[0][0]            \n",
      "__________________________________________________________________________________________________\n",
      "input_1 (InputLayer)            (None, 1)            0                                            \n",
      "__________________________________________________________________________________________________\n",
      "concatenate_1 (Concatenate)     (None, 2049)         0           flatten_1[0][0]                  \n",
      "                                                                 input_1[0][0]                    \n",
      "__________________________________________________________________________________________________\n",
      "dense_1 (Dense)                 (None, 256)          524800      concatenate_1[0][0]              \n",
      "__________________________________________________________________________________________________\n",
      "dense_2 (Dense)                 (None, 2)            514         dense_1[0][0]                    \n",
      "==================================================================================================\n",
      "Total params: 544,642\n",
      "Trainable params: 544,642\n",
      "Non-trainable params: 0\n",
      "__________________________________________________________________________________________________\n",
      "99270/99270 [==============================] - 20s 200us/step\n",
      "[2.1287375498000523, 2.1287375498000523, 0.6867734461581466]\n"
     ]
    }
   ],
   "source": [
    "!ls model\n",
    "best_model = keras.models.load_model('model/CNN_full.h3')\n",
    "best_model.summary()\n",
    "results = best_model.evaluate(X_test, Y_test)\n",
    "print(results)"
   ]
  },
  {
   "cell_type": "markdown",
   "metadata": {},
   "source": [
    "Evaluate the performance of our DNN! Plot predictions vs. true values (the line is predictions vs. predicitons)."
   ]
  },
  {
   "cell_type": "code",
   "execution_count": 31,
   "metadata": {},
   "outputs": [],
   "source": [
    "predict = best_model.predict(X_test)"
   ]
  },
  {
   "cell_type": "code",
   "execution_count": 32,
   "metadata": {
    "scrolled": false
   },
   "outputs": [
    {
     "data": {
      "image/png": "[encoded data removed]",
      "text/plain": [
       "<Figure size 432x288 with 1 Axes>"
      ]
     },
     "metadata": {
      "needs_background": "light"
     },
     "output_type": "display_data"
    }
   ],
   "source": [
    "# Plot ROC\n",
    "from sklearn.metrics import roc_curve, auc\n",
    "fpr, tpr, thresholds = roc_curve(Y_test[0][:,1], predict[:,1])\n",
    "roc_auc = auc(fpr, tpr)\n",
    "plt.plot(fpr, tpr, lw=2, color='b', label='auc = %.3f' % (roc_auc))\n",
    "plt.plot([0, 1], [0, 1], linestyle='--', lw=2, color='k', label='random chance')\n",
    "plt.xlim([0, 1.0])\n",
    "plt.ylim([0, 1.0])\n",
    "plt.xlabel('false positive rate')\n",
    "plt.ylabel('true positive rate')\n",
    "plt.title('receiver operating curve')\n",
    "plt.legend(loc=\"lower right\")\n",
    "plt.show()"
   ]
  },
  {
   "cell_type": "code",
   "execution_count": 53,
   "metadata": {},
   "outputs": [],
   "source": [
    "# hist, bin_edges = np.histogram(predict[:int(len(predict)/2)])\n",
    "# hist_, bin_edges_ = np.histogram(predict[:-int(len((predict)-1)/2)])\n",
    "# plt.hist([predict[:int(len(predict)/2)].flatten(), predict[int(len(predict)/2)-1:-1].flatten()] ,\n",
    "#          color = ['blue', 'red'], histtype = 'step', label = ['signal', 'background'])\n",
    "# plt.legend()\n",
    "# plt.yscale('log')\n",
    "# plt.show()"
   ]
  }
 ],
 "metadata": {
  "kernelspec": {
   "display_name": "Python 3",
   "language": "python",
   "name": "python3"
  },
  "language_info": {
   "codemirror_mode": {
    "name": "ipython",
    "version": 3
   },
   "file_extension": ".py",
   "mimetype": "text/x-python",
   "name": "python",
   "nbconvert_exporter": "python",
   "pygments_lexer": "ipython3",
   "version": "3.7.7"
  }
 },
 "nbformat": 4,
 "nbformat_minor": 2
}
